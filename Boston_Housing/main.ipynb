{
 "cells": [
  {
   "cell_type": "code",
   "execution_count": null,
   "id": "6c16dc19",
   "metadata": {},
   "outputs": [],
   "source": [
    "import numpy as np\n",
    "import pandas as pd\n",
    "import matplotlib.pyplot as plt\n",
    "\n",
    "from sklearn.datasets import fetch_openml\n",
    "\n",
    "boston = fetch_openml(name=\"boston\", version=1)"
   ]
  },
  {
   "cell_type": "code",
   "execution_count": null,
   "id": "43e9ec60",
   "metadata": {},
   "outputs": [],
   "source": [
    "boston.data.shape"
   ]
  },
  {
   "cell_type": "code",
   "execution_count": null,
   "id": "478ca394",
   "metadata": {},
   "outputs": [],
   "source": [
    "data = pd.DataFrame(boston.data)\n",
    "data.columns = boston.feature_names\n",
    "\n",
    "data.head(10)"
   ]
  },
  {
   "cell_type": "code",
   "execution_count": null,
   "id": "c88a19af",
   "metadata": {},
   "outputs": [],
   "source": [
    "boston.target.shape"
   ]
  },
  {
   "cell_type": "code",
   "execution_count": null,
   "id": "9c2aa2a5",
   "metadata": {},
   "outputs": [],
   "source": [
    "data['Price'] = boston.target\n",
    "data.head()"
   ]
  },
  {
   "cell_type": "code",
   "execution_count": null,
   "id": "6b48f5ca",
   "metadata": {},
   "outputs": [],
   "source": [
    "data.describe()"
   ]
  },
  {
   "cell_type": "code",
   "execution_count": null,
   "id": "757db265",
   "metadata": {},
   "outputs": [],
   "source": [
    "data.info()"
   ]
  },
  {
   "cell_type": "code",
   "execution_count": null,
   "id": "88ab3471",
   "metadata": {},
   "outputs": [],
   "source": [
    "x = boston.data\n",
    " \n",
    "y = boston.target\n",
    " \n",
    " \n",
    "\n",
    "from sklearn.model_selection import train_test_split\n",
    "\n",
    "xtrain, xtest, ytrain, ytest = train_test_split(x, y, test_size =0.2, random_state = 0)\n",
    "\n",
    "print(\"xtrain shape : \", xtrain.shape)\n",
    "print(\"xtest shape  : \", xtest.shape)\n",
    "print(\"ytrain shape : \", ytrain.shape)\n",
    "print(\"ytest shape  : \", ytest.shape)"
   ]
  },
  {
   "cell_type": "code",
   "execution_count": null,
   "id": "ead3b3b9",
   "metadata": {},
   "outputs": [],
   "source": [
    "from sklearn.linear_model import LinearRegression\n",
    "regressor = LinearRegression()\n",
    "regressor.fit(xtrain, ytrain)\n",
    " \n",
    "y_pred = regressor.predict(xtest)"
   ]
  },
  {
   "cell_type": "code",
   "execution_count": null,
   "id": "d1991d7a",
   "metadata": {},
   "outputs": [],
   "source": [
    "plt.scatter(ytest, y_pred, c = 'green')\n",
    "plt.xlabel(\"Price: in $1000's\")\n",
    "plt.ylabel(\"Predicted value\")\n",
    "plt.title(\"True value vs predicted value : Linear Regression\")\n",
    "plt.show()"
   ]
  },
  {
   "cell_type": "code",
   "execution_count": null,
   "id": "8d7aa487",
   "metadata": {},
   "outputs": [],
   "source": [
    "from sklearn.metrics import mean_squared_error, mean_absolute_error\n",
    "mse = mean_squared_error(ytest, y_pred)\n",
    "mae = mean_absolute_error(ytest,y_pred)\n",
    "print(\"Mean Square Error : \", mse)\n",
    "print(\"Mean Absolute Error : \", mae)"
   ]
  }
 ],
 "metadata": {
  "kernelspec": {
   "display_name": "Python 3",
   "language": "python",
   "name": "python3"
  },
  "language_info": {
   "name": "python",
   "version": "3.9.6"
  }
 },
 "nbformat": 4,
 "nbformat_minor": 5
}
